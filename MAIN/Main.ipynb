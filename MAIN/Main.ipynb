{
 "cells": [
  {
   "cell_type": "code",
   "execution_count": 13,
   "metadata": {
    "collapsed": true,
    "pycharm": {
     "name": "#%%\n"
    }
   },
   "outputs": [
    {
     "name": "stdout",
     "output_type": "stream",
     "text": [
      "FIM\n"
     ]
    }
   ],
   "source": [
    "#Lista de imports de bibliotecas utilizadas #\n",
    "#importando TKINTER, biblioteca gráfica nativa do python\n",
    "from tkinter import *\n",
    "\n",
    "\n",
    "#Criano objeto contato\n",
    "class Contato:\n",
    "\n",
    "#Defininindo um construtor para o objeto contato\n",
    "#com nome e telefone obrigatórios e outros atributos opcionais\n",
    "    def __init__(self, nome, telefone, email=None, twitter=None, instagram=None):\n",
    "        self.nome = nome\n",
    "        self.telefone = telefone\n",
    "        self.email = email\n",
    "        self.twitter = twitter\n",
    "        self.instagram = instagram\n",
    "\n",
    "\n",
    "#retorna o nome \n",
    "    def getNome(self):\n",
    "        return self.nome\n",
    "\n",
    "\n",
    "\n",
    "\n",
    "#Classe responsável pela criação da tela principal\n",
    "class PainelPrincipal:\n",
    "\n",
    "    \n",
    "    janela = Tk() #definindo variável para controlar a GUI\n",
    "    janela.configure(background='grey') # cor do plano de fundo\n",
    "    janela.title(\"Agenda de Contatos\") #titulo da janela\n",
    "    janela.geometry(\"500x500\") #tamanho da janela\n",
    "\n",
    "\n",
    "PainelPrincipal.janela.mainloop() #chamada de criação da janela\n",
    "print(\"FIM\")"
   ]
  }
 ],
 "metadata": {
  "kernelspec": {
   "display_name": "Python 3",
   "language": "python",
   "name": "python3"
  },
  "language_info": {
   "codemirror_mode": {
    "name": "ipython",
    "version": 2
   },
   "file_extension": ".py",
   "mimetype": "text/x-python",
   "name": "python",
   "nbconvert_exporter": "python",
   "pygments_lexer": "ipython2",
   "version": "2.7.6"
  }
 },
 "nbformat": 4,
 "nbformat_minor": 0
}