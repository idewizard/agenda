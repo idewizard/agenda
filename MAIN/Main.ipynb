{
 "cells": [
  {
   "cell_type": "code",
   "execution_count": 36,
   "metadata": {
    "collapsed": true,
    "pycharm": {
     "name": "#%%\n"
    }
   },
   "outputs": [
    {
     "name": "stdout",
     "output_type": "stream",
     "text": [
      "Nome:  aaa \n",
      "Telefone:  bbb\n",
      "Nome:  aaa \n",
      "Telefone:  bbb\n",
      "Nome:  teste \n",
      "Telefone:  teste2\n",
      "FIM\n"
     ]
    }
   ],
   "source": [
    "#Lista de imports de bibliotecas utilizadas #\n",
    "#importando TKINTER, biblioteca gráfica nativa do python\n",
    "from tkinter import *\n",
    "\n",
    "\n",
    "#Criano objeto contato\n",
    "class Contato:\n",
    "    \n",
    "#Defininindo um construtor para o objeto contato\n",
    "#com nome e telefone obrigatórios e outros atributos opcionais\n",
    "    def __init__(self, nome, telefone, email=None, twitter=None, instagram=None):\n",
    "        self.nome = nome\n",
    "        self.telefone = telefone\n",
    "        self.email = email\n",
    "        self.twitter = twitter\n",
    "        self.instagram = instagram\n",
    "\n",
    "\n",
    "#retorna o nome\n",
    "    def getNome(self):\n",
    "        return self.nome\n",
    "\n",
    "#retorna o telefone\n",
    "    def getTelefone(self):\n",
    "        return self.telefone\n",
    "\n",
    "\n",
    "class PainelPrincipal:\n",
    "\n",
    "    #construtor do objeto com todos os campos e regras definidos manualmente\n",
    "    def __init__(self):\n",
    "        \n",
    "        #definindo variável raiz e detalhes da janela como tamanho\n",
    "        #titulo da janela, se pode ser redimensionada\n",
    "        self.janela = Tk()                       \n",
    "        self.janela.title(\"Agenda de Contatos\")  \n",
    "        self.janela.geometry(\"400x400\")          \n",
    "        self.janela.resizable(0,0)               \n",
    "\n",
    "        #criação dos rotulos da aplicação\n",
    "        self.rotulo_nome = Label(self.janela, text=\"Nome: \")\n",
    "        self.rotulo_telefone = Label(self.janela, text=\"Telefone: \")\n",
    "        \n",
    "        #Criação dos campos de entrada do formulario\n",
    "        self.campo_nome = Entry(self.janela)\n",
    "        self.campo_telefone = Entry(self.janela)\n",
    "        \n",
    "        #criação do botão que envia as informações para a classe \n",
    "        #Agenda Services para dar salvar os dados em arquivo\n",
    "        self.enviar = Button(self.janela, text=\"Salvar Contato\", command=self.teste)\n",
    "\n",
    "        #Definindo o posicionamento dos itens usando sistema de grade \n",
    "        #onde existem linhas e colunas e margem entre os itens\n",
    "        self.rotulo_nome.grid(row=0, column=1, ipadx=\"50\")\n",
    "        self.rotulo_telefone.grid(row=1, column=1, ipadx=\"50\")   \n",
    "        self.campo_nome.grid(row=0, column=2, ipadx=\"50\")\n",
    "        self.campo_telefone.grid(row=1, column=2, ipadx=\"50\")        \n",
    "        self.enviar.grid(row=8, column = 1)\n",
    "        \n",
    "        #cria/inicia a janela respeitando todas as configurações anteriores\n",
    "        self.janela.mainloop()\n",
    "\n",
    "    def teste(self):\n",
    "        contato = Contato( self.campo_nome.get(),self.campo_telefone.get())\n",
    "        a = AgendaServices()\n",
    "        a.salvar_contato(contato)\n",
    "        pass\n",
    "\n",
    "\n",
    "#Classe responsável pela criação da tela principal\n",
    "class AgendaServices():\n",
    "    \n",
    "    def salvar_contato(self, contato = Contato):\n",
    "        print(\"Nome: \",contato.getNome(),\"\\nTelefone: \", contato.getTelefone())\n",
    "\n",
    "PainelPrincipal()\n",
    "print(\"FIM\")\n",
    "\n"
   ]
  }
 ],
 "metadata": {
  "kernelspec": {
   "display_name": "Python 3",
   "language": "python",
   "name": "python3"
  },
  "language_info": {
   "codemirror_mode": {
    "name": "ipython",
    "version": 2
   },
   "file_extension": ".py",
   "mimetype": "text/x-python",
   "name": "python",
   "nbconvert_exporter": "python",
   "pygments_lexer": "ipython2",
   "version": "2.7.6"
  }
 },
 "nbformat": 4,
 "nbformat_minor": 0
}