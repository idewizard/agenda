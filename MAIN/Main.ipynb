{
 "cells": [
  {
   "cell_type": "code",
   "execution_count": 8,
   "metadata": {
    "collapsed": true,
    "pycharm": {
     "name": "#%%\n"
    }
   },
   "outputs": [
    {
     "name": "stdout",
     "output_type": "stream",
     "text": [
      "Andre\n"
     ]
    }
   ],
   "source": [
    "\n",
    "class Pessoa:\n",
    "\n",
    "    def __init__(self, nome, telefone, email=None, twitter=None, instagram=None):\n",
    "        self.nome = nome\n",
    "        self.telefone = telefone\n",
    "        if email is not None:\n",
    "            self.email = email\n",
    "        else:\n",
    "            self.email = \"\"\n",
    "        if twitter is not None:\n",
    "            self.twitter = twitter\n",
    "        else:\n",
    "            self.twitter = \"\"\n",
    "        if instagram is not None:\n",
    "            self.instagram = instagram\n",
    "        else:\n",
    "            self.instagram = \"\"\n",
    "\n",
    "\n",
    "    def getNome(self):\n",
    "        return self.__nome\n",
    "\n",
    "\n",
    "p = Pessoa(\"Andre\", 233421412)\n",
    "\n",
    "print(p.nome)"
   ]
  }
 ],
 "metadata": {
  "kernelspec": {
   "display_name": "Python 3",
   "language": "python",
   "name": "python3"
  },
  "language_info": {
   "codemirror_mode": {
    "name": "ipython",
    "version": 2
   },
   "file_extension": ".py",
   "mimetype": "text/x-python",
   "name": "python",
   "nbconvert_exporter": "python",
   "pygments_lexer": "ipython2",
   "version": "2.7.6"
  }
 },
 "nbformat": 4,
 "nbformat_minor": 0
}