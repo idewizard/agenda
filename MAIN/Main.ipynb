{
 "cells": [
  {
   "cell_type": "code",
   "execution_count": 2,
   "metadata": {
    "collapsed": true,
    "pycharm": {
     "name": "#%%\n"
    }
   },
   "outputs": [
    {
     "name": "stdout",
     "output_type": "stream",
     "text": [
      "teste\n",
      "FIM\n"
     ]
    }
   ],
   "source": [
    "#Lista de imports de bibliotecas utilizadas #\n",
    "#importando TKINTER, biblioteca gráfica nativa do python\n",
    "from tkinter import *\n",
    "\n",
    "\n",
    "#Criano objeto contato\n",
    "class Contato:\n",
    "\n",
    "#Defininindo um construtor para o objeto contato\n",
    "#com nome e telefone obrigatórios e outros atributos opcionais\n",
    "    def __init__(self, nome, telefone, email=None, twitter=None, instagram=None):\n",
    "        self.nome = nome\n",
    "        self.telefone = telefone\n",
    "        self.email = email\n",
    "        self.twitter = twitter\n",
    "        self.instagram = instagram\n",
    "\n",
    "\n",
    "#retorna o nome\n",
    "    def getNome(self):\n",
    "        return self.nome\n",
    "\n",
    "\n",
    "\n",
    "\n",
    "#Classe responsável pela criação da tela principal\n",
    "\n",
    "\n",
    "def change_focus(foco_atual, proximo_foco):\n",
    "\n",
    "    proximo_foco.focus_set()\n",
    "    pass\n",
    "\n",
    "\n",
    "class PainelPrincipal:\n",
    "\n",
    "    janela = Tk()                       # definindo variável para controlar a GUI\n",
    "    janela.title(\"Agenda de Contatos\")  # titulo da janela\n",
    "    janela.geometry(\"400x400\")          # tamanho da janela\n",
    "    janela.resizable(0,0)               # desabilita o ajuste de tamanho da janela\n",
    "\n",
    "    rotulo_nome = Label(janela, text=\"Nome: \")\n",
    "    rotulo_telefone = Label(janela, text=\"Telefone: \")\n",
    "\n",
    "    rotulo_nome.grid(row=0, column=1, ipadx=\"50\")\n",
    "    rotulo_telefone.grid(row=1, column=1, ipadx=\"50\")\n",
    "\n",
    "\n",
    "    campo_nome = Entry(janela)\n",
    "    campo_telefone = Entry(janela)\n",
    "\n",
    "    campo_nome.grid(row=0, column=2, ipadx=\"50\")\n",
    "    campo_telefone.grid(row=1, column=2, ipadx=\"50\")\n",
    "\n",
    "    campo_nome.bind(\"<Return>\", print(\"teste\"))\n",
    "\n",
    "\n",
    "\n",
    "\n",
    "\n",
    "PainelPrincipal.janela.mainloop() #chamada de criação da janela\n",
    "print(\"FIM\")"
   ]
  }
 ],
 "metadata": {
  "kernelspec": {
   "display_name": "Python 3",
   "language": "python",
   "name": "python3"
  },
  "language_info": {
   "codemirror_mode": {
    "name": "ipython",
    "version": 2
   },
   "file_extension": ".py",
   "mimetype": "text/x-python",
   "name": "python",
   "nbconvert_exporter": "python",
   "pygments_lexer": "ipython2",
   "version": "2.7.6"
  }
 },
 "nbformat": 4,
 "nbformat_minor": 0
}